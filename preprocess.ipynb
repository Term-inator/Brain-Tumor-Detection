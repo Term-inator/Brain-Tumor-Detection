{
 "cells": [
  {
   "cell_type": "code",
   "execution_count": 1,
   "metadata": {},
   "outputs": [],
   "source": [
    "import os\n",
    "import cv2"
   ]
  },
  {
   "cell_type": "code",
   "execution_count": 2,
   "metadata": {},
   "outputs": [],
   "source": [
    "archive_path = '../input/train/'\n",
    "T2_path = '../input/T2Train/'\n",
    "T1_path = '../input/T1Train/'\n",
    "\n",
    "dirs = ['yes/', 'no/']\n",
    "for dir in dirs:\n",
    "  archive = os.listdir(archive_path + dir)\n",
    "  T2 = os.listdir(T2_path + dir)\n",
    "  for filename in archive:\n",
    "    if filename not in T2:\n",
    "      image = cv2.imread(archive_path + dir + filename, cv2.IMREAD_COLOR)\n",
    "      cv2.imwrite(T1_path + dir + filename, image)"
   ]
  },
  {
   "cell_type": "code",
   "execution_count": null,
   "metadata": {},
   "outputs": [],
   "source": [
    "import ramdom\n",
    "import numpy as np\n",
    "\n",
    "def seed_torch(seed=42):\n",
    "    random.seed(seed)\n",
    "    os.environ['PYTHONHASHSEED'] = str(seed)\n",
    "    np.random.seed(seed)\n",
    "    torch.manual_seed(seed)\n",
    "    torch.cuda.manual_seed(seed)\n",
    "    torch.backends.cudnn.deterministic = True"
   ]
  }
 ],
 "metadata": {
  "interpreter": {
   "hash": "258ae7298d57a1726411610743d70d8b9599dc0f8ffa2bc85c316c107dd30711"
  },
  "kernelspec": {
   "display_name": "Python 3.6.2 ('py36')",
   "language": "python",
   "name": "python3"
  },
  "language_info": {
   "codemirror_mode": {
    "name": "ipython",
    "version": 3
   },
   "file_extension": ".py",
   "mimetype": "text/x-python",
   "name": "python",
   "nbconvert_exporter": "python",
   "pygments_lexer": "ipython3",
   "version": "3.6.2"
  },
  "orig_nbformat": 4
 },
 "nbformat": 4,
 "nbformat_minor": 2
}
