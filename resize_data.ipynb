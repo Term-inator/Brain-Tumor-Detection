{
 "cells": [
  {
   "cell_type": "code",
   "execution_count": 9,
   "metadata": {},
   "outputs": [],
   "source": [
    "import os\n",
    "import cv2\n",
    "import zipfile\n",
    "import numpy as np\n",
    "import pandas as pd\n",
    "from tqdm.auto import tqdm\n",
    "from matplotlib import pyplot as plt\n",
    "from zipfile import ZipFile\n",
    "\n",
    "base_path = '../input/CleanedArchive/'\n",
    "dirs = ['yes/', 'no/']\n",
    "\n",
    "with zipfile.ZipFile(f'../input/train.zip', 'w') as img_out:\n",
    "  for dir in dirs:\n",
    "    for filename in os.listdir(base_path + dir):\n",
    "      image = cv2.imread(base_path + dir + filename, cv2.IMREAD_COLOR)\n",
    "      image = cv2.cvtColor(image, cv2.COLOR_BGR2RGB)\n",
    "      image = cv2.resize(image, (384, 384))\n",
    "      image = cv2.imencode('.png', image)[1]\n",
    "      img_out.writestr(f\"{dir}{filename}.png\", image)"
   ]
  }
 ],
 "metadata": {
  "interpreter": {
   "hash": "258ae7298d57a1726411610743d70d8b9599dc0f8ffa2bc85c316c107dd30711"
  },
  "kernelspec": {
   "display_name": "Python 3.6.2 ('py36')",
   "language": "python",
   "name": "python3"
  },
  "language_info": {
   "codemirror_mode": {
    "name": "ipython",
    "version": 3
   },
   "file_extension": ".py",
   "mimetype": "text/x-python",
   "name": "python",
   "nbconvert_exporter": "python",
   "pygments_lexer": "ipython3",
   "version": "3.6.2"
  },
  "orig_nbformat": 4
 },
 "nbformat": 4,
 "nbformat_minor": 2
}
